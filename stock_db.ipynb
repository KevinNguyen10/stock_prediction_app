{
 "cells": [
  {
   "cell_type": "code",
   "execution_count": 12,
   "source": [
    "# import necessary libraries \n",
    "from configparser import ConfigParser\n",
    "import alpaca_trade_api as tradeapi \n",
    "import pandas as pd"
   ],
   "outputs": [],
   "metadata": {}
  },
  {
   "cell_type": "code",
   "execution_count": 13,
   "source": [
    "# Test Connection\n",
    "# Parse the config file\n",
    "config = ConfigParser()\n",
    "config.read('config.ini')\n",
    "\n",
    "# Access the authorization passwords\n",
    "API_KEY = config['keys']['API_KEY']\n",
    "API_SECRET = config['keys']['API_SECRET']\n",
    "BASE_URL = config['keys']['ENDPOINT']\n",
    "\n",
    "api_key = API_KEY\n",
    "api_secret = API_SECRET\n",
    "base_url = BASE_URL\n",
    "\n",
    "# instantiate REST API\n",
    "api = tradeapi.REST(api_key, api_secret, base_url, api_version='v2')"
   ],
   "outputs": [],
   "metadata": {}
  },
  {
   "cell_type": "code",
   "execution_count": 14,
   "source": [
    "# Get all the stocks \n",
    "active_assets = api.list_assets(status='active')\n",
    "stock_list = []\n",
    "keys = range(len(stock_list))\n",
    "for asset in active_assets:\n",
    "    stock_list.append(asset.symbol)"
   ],
   "outputs": [],
   "metadata": {}
  },
  {
   "cell_type": "code",
   "execution_count": null,
   "source": [],
   "outputs": [],
   "metadata": {}
  }
 ],
 "metadata": {
  "orig_nbformat": 4,
  "language_info": {
   "name": "python",
   "version": "3.9.5",
   "mimetype": "text/x-python",
   "codemirror_mode": {
    "name": "ipython",
    "version": 3
   },
   "pygments_lexer": "ipython3",
   "nbconvert_exporter": "python",
   "file_extension": ".py"
  },
  "kernelspec": {
   "name": "python3",
   "display_name": "Python 3.9.5 64-bit ('python_master': conda)"
  },
  "interpreter": {
   "hash": "533526b5ce6b4b1adf69cff380b6115aea3f579c2b5417e91c8a37a5333bfb3c"
  }
 },
 "nbformat": 4,
 "nbformat_minor": 2
}